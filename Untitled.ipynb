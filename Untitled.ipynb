{
 "cells": [
  {
   "cell_type": "code",
   "execution_count": 1,
   "id": "a02bf762",
   "metadata": {},
   "outputs": [
    {
     "ename": "ImportError",
     "evalue": "cannot import name 'PizzaOrderingSystem' from 'pizza_ordering_system' (/Users/serhanberkeerden/Desktop/Notebook/Python Project | Pizza Menu/pizza_ordering_system.py)",
     "output_type": "error",
     "traceback": [
      "\u001b[0;31m---------------------------------------------------------------------------\u001b[0m",
      "\u001b[0;31mImportError\u001b[0m                               Traceback (most recent call last)",
      "\u001b[0;32m/var/folders/_y/242gv345079fkx7s36n0by940000gn/T/ipykernel_3843/4022719284.py\u001b[0m in \u001b[0;36m<module>\u001b[0;34m\u001b[0m\n\u001b[0;32m----> 1\u001b[0;31m \u001b[0;32mfrom\u001b[0m \u001b[0mpizza_ordering_system\u001b[0m \u001b[0;32mimport\u001b[0m \u001b[0mPizzaOrderingSystem\u001b[0m\u001b[0;34m\u001b[0m\u001b[0;34m\u001b[0m\u001b[0m\n\u001b[0m",
      "\u001b[0;31mImportError\u001b[0m: cannot import name 'PizzaOrderingSystem' from 'pizza_ordering_system' (/Users/serhanberkeerden/Desktop/Notebook/Python Project | Pizza Menu/pizza_ordering_system.py)"
     ]
    }
   ],
   "source": [
    "from pizza_ordering_system import PizzaOrderingSystem"
   ]
  },
  {
   "cell_type": "code",
   "execution_count": 2,
   "id": "ca6cc664",
   "metadata": {},
   "outputs": [
    {
     "name": "stdout",
     "output_type": "stream",
     "text": [
      "\u001b[31mERROR: Could not find a version that satisfies the requirement pizza_ordering_system (from versions: none)\u001b[0m\u001b[31m\n",
      "\u001b[0m\u001b[31mERROR: No matching distribution found for pizza_ordering_system\u001b[0m\u001b[31m\n",
      "\u001b[0mNote: you may need to restart the kernel to use updated packages.\n"
     ]
    }
   ],
   "source": [
    "pip install pizza_ordering_system"
   ]
  },
  {
   "cell_type": "code",
   "execution_count": 3,
   "id": "1806caeb",
   "metadata": {},
   "outputs": [
    {
     "ename": "SyntaxError",
     "evalue": "invalid syntax (652319582.py, line 1)",
     "output_type": "error",
     "traceback": [
      "\u001b[0;36m  File \u001b[0;32m\"/var/folders/_y/242gv345079fkx7s36n0by940000gn/T/ipykernel_3843/652319582.py\"\u001b[0;36m, line \u001b[0;32m1\u001b[0m\n\u001b[0;31m    export PYTHONPATH=$PYTHONPATH:/path/to/pizza_ordering_system.py\u001b[0m\n\u001b[0m           ^\u001b[0m\n\u001b[0;31mSyntaxError\u001b[0m\u001b[0;31m:\u001b[0m invalid syntax\n"
     ]
    }
   ],
   "source": [
    "export PYTHONPATH=$PYTHONPATH:/path/to/pizza_ordering_system.py\n"
   ]
  },
  {
   "cell_type": "code",
   "execution_count": 4,
   "id": "da8f48bf",
   "metadata": {},
   "outputs": [
    {
     "name": "stdout",
     "output_type": "stream",
     "text": [
      "Current directory: /Users/serhanberkeerden/Desktop/Notebook/Python Project | Pizza Menu\n",
      "File path: /Users/serhanberkeerden/Desktop/Notebook/Python Project | Pizza Menu/filename.txt\n",
      "Directory path: /Users/serhanberkeerden/Desktop/Notebook/Python Project | Pizza Menu/dirname\n"
     ]
    }
   ],
   "source": [
    "import os\n",
    "\n",
    "# Get the current working directory\n",
    "current_dir = os.getcwd()\n",
    "print(\"Current directory:\", current_dir)\n",
    "\n",
    "# Get the absolute path of a file in the current directory\n",
    "file_path = os.path.abspath(\"filename.txt\")\n",
    "print(\"File path:\", file_path)\n",
    "\n",
    "# Get the absolute path of a directory in the current directory\n",
    "dir_path = os.path.abspath(\"dirname\")\n",
    "print(\"Directory path:\", dir_path)\n",
    "\n"
   ]
  },
  {
   "cell_type": "code",
   "execution_count": null,
   "id": "028dc5aa",
   "metadata": {},
   "outputs": [],
   "source": []
  }
 ],
 "metadata": {
  "kernelspec": {
   "display_name": "Python 3 (ipykernel)",
   "language": "python",
   "name": "python3"
  },
  "language_info": {
   "codemirror_mode": {
    "name": "ipython",
    "version": 3
   },
   "file_extension": ".py",
   "mimetype": "text/x-python",
   "name": "python",
   "nbconvert_exporter": "python",
   "pygments_lexer": "ipython3",
   "version": "3.9.13"
  }
 },
 "nbformat": 4,
 "nbformat_minor": 5
}
